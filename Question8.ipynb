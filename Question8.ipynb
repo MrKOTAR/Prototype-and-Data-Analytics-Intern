{
 "cells": [
  {
   "cell_type": "code",
   "execution_count": 17,
   "id": "5116ce69-516a-4b83-9283-f75205809ff5",
   "metadata": {},
   "outputs": [
    {
     "data": {
      "text/plain": [
       "'xcd32112.smart_meter.com'"
      ]
     },
     "execution_count": 17,
     "metadata": {},
     "output_type": "execute_result"
    }
   ],
   "source": [
    "text = \"<url>https://xcd32112.smart_meter.com</url>\"\n",
    "first_slash = text.find(\"/\")\n",
    "last_slash = text.rfind(\"/\")\n",
    "text[first_slash+2:last_slash-1]"
   ]
  }
 ],
 "metadata": {
  "kernelspec": {
   "display_name": "Python 3",
   "language": "python",
   "name": "python3"
  },
  "language_info": {
   "codemirror_mode": {
    "name": "ipython",
    "version": 3
   },
   "file_extension": ".py",
   "mimetype": "text/x-python",
   "name": "python",
   "nbconvert_exporter": "python",
   "pygments_lexer": "ipython3",
   "version": "3.8.8"
  }
 },
 "nbformat": 4,
 "nbformat_minor": 5
}
